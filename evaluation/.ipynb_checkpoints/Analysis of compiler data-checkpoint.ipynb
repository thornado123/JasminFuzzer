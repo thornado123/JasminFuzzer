{
 "cells": [
  {
   "cell_type": "code",
   "execution_count": 145,
   "metadata": {},
   "outputs": [],
   "source": [
    "import pandas as pd\n",
    "import matplotlib\n",
    "%matplotlib inline"
   ]
  },
  {
   "cell_type": "code",
   "execution_count": 146,
   "metadata": {},
   "outputs": [],
   "source": [
    "df = pd.read_csv(\"/Users/thorjakobsen/GIT/JasminFuzzer/evaluation/data/results_0_100.csv\")"
   ]
  },
  {
   "cell_type": "markdown",
   "metadata": {},
   "source": [
    "# General about generated programs\n",
    "\n",
    "In the following the def. of a safe program is a program that is compilled without errors and which has no errors or safety violation."
   ]
  },
  {
   "cell_type": "code",
   "execution_count": 147,
   "metadata": {},
   "outputs": [
    {
     "name": "stdout",
     "output_type": "stream",
     "text": [
      "Amount of programs:  100\n",
      "Amount of safe programs:  72\n"
     ]
    }
   ],
   "source": [
    "print(\"Amount of programs: \", df.shape[0])\n",
    "print(\"Amount of safe programs: \", df.loc[(df.Errors == \"[[], []]\") & df.Safe == True].shape[0])"
   ]
  },
  {
   "cell_type": "markdown",
   "metadata": {},
   "source": [
    "## Program generation time and safety check time"
   ]
  },
  {
   "cell_type": "code",
   "execution_count": 148,
   "metadata": {},
   "outputs": [
    {
     "name": "stdout",
     "output_type": "stream",
     "text": [
      "Fastest time:  0.0006039142608642577\n",
      "Sloweset time:  0.0264890193939209\n",
      "Average time:  0.0026285696029663087\n"
     ]
    },
    {
     "data": {
      "text/plain": [
       "<matplotlib.axes._subplots.AxesSubplot at 0x11b2e5748>"
      ]
     },
     "execution_count": 148,
     "metadata": {},
     "output_type": "execute_result"
    },
    {
     "data": {
      "image/png": "[encoded data removed]",
      "text/plain": [
       "<Figure size 432x288 with 1 Axes>"
      ]
     },
     "metadata": {
      "needs_background": "light"
     },
     "output_type": "display_data"
    }
   ],
   "source": [
    "print(\"Fastest time: \", df.GenerationTime.min())\n",
    "print(\"Sloweset time: \", df.GenerationTime.max())\n",
    "print(\"Average time: \", df.GenerationTime.mean())\n",
    "df.GenerationTime.plot.hist(bins=20)"
   ]
  },
  {
   "cell_type": "code",
   "execution_count": 149,
   "metadata": {},
   "outputs": [
    {
     "name": "stdout",
     "output_type": "stream",
     "text": [
      "Fastest time:  0.01925206184387207\n",
      "Sloweset time:  1.958332061767578\n",
      "Average time:  0.05425496578216553\n"
     ]
    },
    {
     "data": {
      "text/plain": [
       "<matplotlib.axes._subplots.AxesSubplot at 0x11b225278>"
      ]
     },
     "execution_count": 149,
     "metadata": {},
     "output_type": "execute_result"
    },
    {
     "data": {
      "image/png": "[encoded data removed]",
      "text/plain": [
       "<Figure size 432x288 with 1 Axes>"
      ]
     },
     "metadata": {
      "needs_background": "light"
     },
     "output_type": "display_data"
    }
   ],
   "source": [
    "print(\"Fastest time: \", df.SafetyCheckTime.min())\n",
    "print(\"Sloweset time: \", df.SafetyCheckTime.max())\n",
    "print(\"Average time: \", df.SafetyCheckTime.mean())\n",
    "df.SafetyCheckTime.plot.hist(bins=20)"
   ]
  },
  {
   "cell_type": "markdown",
   "metadata": {},
   "source": [
    "## Program sizes"
   ]
  },
  {
   "cell_type": "code",
   "execution_count": 150,
   "metadata": {},
   "outputs": [
    {
     "name": "stdout",
     "output_type": "stream",
     "text": [
      "Smallets size of program:  99\n",
      "Largest size of program:  1851\n",
      "Average size of program:  700.0\n"
     ]
    },
    {
     "data": {
      "text/plain": [
       "<matplotlib.axes._subplots.AxesSubplot at 0x11ab8ea90>"
      ]
     },
     "execution_count": 150,
     "metadata": {},
     "output_type": "execute_result"
    },
    {
     "data": {
      "image/png": "[encoded data removed]",
      "text/plain": [
       "<Figure size 432x288 with 1 Axes>"
      ]
     },
     "metadata": {
      "needs_background": "light"
     },
     "output_type": "display_data"
    }
   ],
   "source": [
    "print(\"Smallets size of program: \", df.Size.min())\n",
    "print(\"Largest size of program: \", df.Size.max())\n",
    "print(\"Average size of program: \", df.size.mean())\n",
    "df.Size.plot.hist(bins=20)"
   ]
  },
  {
   "cell_type": "code",
   "execution_count": 165,
   "metadata": {},
   "outputs": [],
   "source": [
    "df_errors = df.Errors.values\n",
    "\n",
    "compiler_error_codes = []\n",
    "safety_error_codes = []\n",
    "\n",
    "def get_error_codes(i):\n",
    "    \n",
    "    safety_check = i.startswith(\"[[], ['\")\n",
    "    lists = i.split(\"['\")\n",
    "    final_list = [[],[]]\n",
    "    \n",
    "    if i == \"[[], []]\":\n",
    "        \n",
    "        return final_list\n",
    "    \n",
    "    for j in range(1, len(lists)):\n",
    "    \n",
    "        internal_list = lists[j].split(\"']\")[0]\n",
    "        error_list = internal_list.split(\"', '\")\n",
    "\n",
    "        if j == 2 or (j == 1 and safety_check):\n",
    "            for l in error_list:\n",
    "                if l in safety_error_codes:\n",
    "                    final_list[1].append(safety_error_codes.index(l))\n",
    "                else:\n",
    "                    safety_error_codes.append(l)\n",
    "                    final_list[1].append(safety_error_codes.index(l))\n",
    "        else:\n",
    "            for l in error_list:   \n",
    "                if l in compiler_error_codes:\n",
    "                    final_list[0].append(compiler_error_codes.index(l))\n",
    "                else:\n",
    "                    compiler_error_codes.append(l)\n",
    "                    final_list[0].append(compiler_error_codes.index(l))\n",
    "                    \n",
    "    return final_list\n",
    "\n",
    "for i in range(0, df.shape[0]):\n",
    "\n",
    "    result = get_error_codes(df_errors[i])\n",
    "    df.at[i, \"Errors\"] = result"
   ]
  },
  {
   "cell_type": "code",
   "execution_count": 166,
   "metadata": {},
   "outputs": [
    {
     "name": "stdout",
     "output_type": "stream",
     "text": [
      "WARNING: at /Users/thorjakobsen/GIT/jasmin/compiler/tests/jasminFuzzer/test.jazz: line 16 (1-17), variables result and b1 will be merged to v0\n",
      "compilation error in functions main and main at position line 7 from line 16: assembler error Invalid pexpr for word\n",
      "PLEASE REPORT\n",
      "WARNING: at /Users/thorjakobsen/GIT/jasmin/compiler/tests/jasminFuzzer/test.jazz: line 14 (1-17), variables result and b1 will be merged to v0\n",
      "WARNING: at /Users/thorjakobsen/GIT/jasmin/compiler/tests/jasminFuzzer/test.jazz: line 12 (1-17), variables result and b1 will be merged to v0\n",
      "WARNING: CAN NOT FIND IINFO 1\n",
      "compilation error in functions f0 and f0 at position line 56: linearisation error assign not a word\n",
      "compilation error in functions f0 and f0 at position line 11: assembler error assemble_x86_opn : invalid instruction (check) CMP_64\n",
      "Register allocation: no register bank for type bool\n",
      "compilation error in functions f0 and f0 at position line -1: assembler error Not a (x)register\n",
      "compilation error in functions f0 and f0 at position line 23: assembler error: invalid condition \n",
      "((~ ZF.78) && ZF.78)\n",
      "compilation error in functions f0 and f0 at position line 7: assembler error Not a (x)register\n",
      "compilation error in functions main and main at position line 9 from line 16: assembler error Invalid pexpr for word\n"
     ]
    }
   ],
   "source": [
    "for i in compiler_error_codes:\n",
    "    print(i)"
   ]
  },
  {
   "cell_type": "code",
   "execution_count": 167,
   "metadata": {},
   "outputs": [
    {
     "name": "stdout",
     "output_type": "stream",
     "text": [
      "WARNING: at /Users/thorjakobsen/GIT/jasmin/compiler/tests/jasminFuzzer/test.jazz: line 16 (1-17), variables result and b1 will be merged to v0\n",
      "WARNING: at /Users/thorjakobsen/GIT/jasmin/compiler/tests/jasminFuzzer/test.jazz: line 14 (1-17), variables result and b1 will be merged to v0\n",
      "Fatal error: exception File \"src/safety.ml\", line 3550, characters 16-22: Assertion failed\n",
      "WARNING: at /Users/thorjakobsen/GIT/jasmin/compiler/tests/jasminFuzzer/test.jazz: line 12 (1-17), variables result and b1 will be merged to v0\n",
      "Fatal error: exception Failure(\"Environment.dim_of_var: unknown variable in the environment\")\n"
     ]
    }
   ],
   "source": [
    "for i in safety_error_codes:\n",
    "    print(i)"
   ]
  },
  {
   "cell_type": "code",
   "execution_count": 168,
   "metadata": {},
   "outputs": [
    {
     "data": {
      "text/plain": [
       "0              [[], []]\n",
       "1              [[], []]\n",
       "2              [[], []]\n",
       "3              [[], []]\n",
       "4              [[], []]\n",
       "5              [[], []]\n",
       "6              [[], []]\n",
       "7      [[0, 1, 2], [0]]\n",
       "8         [[3], [1, 2]]\n",
       "9              [[], []]\n",
       "10             [[], []]\n",
       "11             [[], []]\n",
       "12             [[], []]\n",
       "13             [[], []]\n",
       "14             [[], []]\n",
       "15             [[], []]\n",
       "16             [[], []]\n",
       "17             [[], []]\n",
       "18             [[], []]\n",
       "19           [[4], [3]]\n",
       "20        [[4], [3, 2]]\n",
       "21        [[3], [1, 2]]\n",
       "22             [[], []]\n",
       "23             [[], []]\n",
       "24             [[], []]\n",
       "25             [[], []]\n",
       "26             [[], []]\n",
       "27             [[], []]\n",
       "28             [[], []]\n",
       "29             [[], []]\n",
       "            ...        \n",
       "70             [[], []]\n",
       "71             [[], []]\n",
       "72             [[], []]\n",
       "73             [[], []]\n",
       "74             [[], []]\n",
       "75             [[], []]\n",
       "76             [[], []]\n",
       "77             [[], []]\n",
       "78    [[10, 11, 2], []]\n",
       "79             [[], []]\n",
       "80             [[], []]\n",
       "81        [[12, 2], []]\n",
       "82             [[], []]\n",
       "83             [[], []]\n",
       "84           [[4], [3]]\n",
       "85             [[], []]\n",
       "86             [[], []]\n",
       "87             [[], []]\n",
       "88        [[13, 2], []]\n",
       "89             [[], []]\n",
       "90             [[], []]\n",
       "91             [[], []]\n",
       "92             [[], []]\n",
       "93             [[], []]\n",
       "94             [[], []]\n",
       "95             [[], []]\n",
       "96             [[], []]\n",
       "97             [[], []]\n",
       "98             [[], []]\n",
       "99             [[], []]\n",
       "Name: Errors, Length: 100, dtype: object"
      ]
     },
     "execution_count": 168,
     "metadata": {},
     "output_type": "execute_result"
    }
   ],
   "source": [
    "df.Errors"
   ]
  },
  {
   "cell_type": "code",
   "execution_count": null,
   "metadata": {},
   "outputs": [],
   "source": []
  }
 ],
 "metadata": {
  "kernelspec": {
   "display_name": "Python 3",
   "language": "python",
   "name": "python3"
  },
  "language_info": {
   "codemirror_mode": {
    "name": "ipython",
    "version": 3
   },
   "file_extension": ".py",
   "mimetype": "text/x-python",
   "name": "python",
   "nbconvert_exporter": "python",
   "pygments_lexer": "ipython3",
   "version": "3.7.3"
  }
 },
 "nbformat": 4,
 "nbformat_minor": 2
}
